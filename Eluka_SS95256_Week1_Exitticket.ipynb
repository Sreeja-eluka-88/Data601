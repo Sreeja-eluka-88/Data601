{
 "cells": [
  {
   "cell_type": "markdown",
   "id": "384f0b90",
   "metadata": {},
   "source": [
    "### Practising on hand Jupyter and mark down"
   ]
  },
  {
   "cell_type": "code",
   "execution_count": 1,
   "id": "a15db16e",
   "metadata": {},
   "outputs": [
    {
     "name": "stdout",
     "output_type": "stream",
     "text": [
      "Hello professor am sreeja\n"
     ]
    }
   ],
   "source": [
    "print(\"Hello professor am sreeja\")"
   ]
  },
  {
   "cell_type": "code",
   "execution_count": 2,
   "id": "3884d089",
   "metadata": {},
   "outputs": [],
   "source": [
    "#create two variables num1 and num2 and assign any numeric values\n",
    "num1=4\n",
    "num2=8"
   ]
  },
  {
   "cell_type": "code",
   "execution_count": 3,
   "id": "3fbe49ff",
   "metadata": {},
   "outputs": [
    {
     "name": "stdout",
     "output_type": "stream",
     "text": [
      "12\n"
     ]
    }
   ],
   "source": [
    "sum_result=num1+num2\n",
    "print(sum_result)"
   ]
  },
  {
   "cell_type": "code",
   "execution_count": 4,
   "id": "ff5f2b58",
   "metadata": {},
   "outputs": [],
   "source": [
    "#get the product of two variables\n",
    "product_result=num1*num2"
   ]
  },
  {
   "cell_type": "code",
   "execution_count": 5,
   "id": "af77af2f",
   "metadata": {},
   "outputs": [
    {
     "data": {
      "text/plain": [
       "32"
      ]
     },
     "execution_count": 5,
     "metadata": {},
     "output_type": "execute_result"
    }
   ],
   "source": [
    "product_result"
   ]
  },
  {
   "cell_type": "markdown",
   "id": "ba56312e",
   "metadata": {},
   "source": [
    "# Notebook Exercise"
   ]
  },
  {
   "cell_type": "markdown",
   "id": "9143b40f",
   "metadata": {},
   "source": [
    "### Notebook for Week2"
   ]
  },
  {
   "cell_type": "markdown",
   "id": "f8a701a9",
   "metadata": {},
   "source": [
    "## Italic\n",
    "*Datascience for engineers*"
   ]
  },
  {
   "cell_type": "markdown",
   "id": "1dbbdfdb",
   "metadata": {},
   "source": [
    "### Bold\n",
    "**Data science for engineers**"
   ]
  },
  {
   "cell_type": "markdown",
   "id": "b9e15601",
   "metadata": {},
   "source": [
    "## Creating link\n",
    "[Blackboard](https://blackboard.umbc.edu/ultra/courses/_75595_1/outline)"
   ]
  },
  {
   "cell_type": "markdown",
   "id": "3ba99152",
   "metadata": {},
   "source": [
    "### Typical Data science lifecycle\n",
    "**1.Business Understanding**\n",
    "\n",
    "-Define the business objectives/goals\n",
    "\n",
    "-Business KPIs Key performance indicator\n",
    "\n",
    "-In spam detection problem -the KPI will be \n",
    "\n",
    "1.Reduce the numer of complaints aboutemail spamming \n",
    "2.Getting more cleaned non spam emails\n",
    "\n",
    "-saving executive time spent on spam emails\n",
    "\n",
    "-Spam mail would likely be filtering hardware and information\n",
    "\n",
    "**2.Data requirement and collection**\n",
    "-Based on the objectives - data scientists with data engineers will do data requirements\n",
    "\n",
    "--Historical\n",
    "\n",
    "--Volume,frequency\n",
    "\n",
    "--Data type(structured,text,images etc..)\n",
    "\n",
    "Hoe to get data access\n",
    "\n",
    "-Data ETL process\n",
    "\n",
    "-Streamlining data (Automate data ingestion process)\n",
    "\n",
    "**3.Research , Data exploratory and solution review**\n",
    "\n",
    "-Research ,Exploratory data analysis,solution review\n",
    "\n",
    "-Data patterns,correlation,visualization work\n",
    "\n",
    "**4.Training and model building**\n",
    "\n",
    "-Train your model\n",
    "\n",
    "-Test your model\n",
    "\n",
    "-Validate your model\n",
    "\n",
    "**5.Model optimization**\n",
    "\n",
    "-Tuning and Hyper parameter\n",
    "\n",
    "**6.Deployment**\n",
    "\n",
    "-Mlops,Devops\n",
    "\n",
    "\n",
    "\n",
    "\n"
   ]
  },
  {
   "cell_type": "code",
   "execution_count": 10,
   "id": "f0e1ae24",
   "metadata": {},
   "outputs": [],
   "source": [
    "#creating variables\n",
    "x=10\n",
    "y=8.6\n",
    "name='sreeja'\n",
    "name2='Eluka'"
   ]
  },
  {
   "cell_type": "code",
   "execution_count": 11,
   "id": "1e545def",
   "metadata": {},
   "outputs": [
    {
     "name": "stdout",
     "output_type": "stream",
     "text": [
      "<class 'int'>\n",
      "<class 'float'>\n",
      "<class 'str'>\n",
      "<class 'str'>\n"
     ]
    }
   ],
   "source": [
    "#Data types\n",
    "print(type(x))\n",
    "print(type(y))\n",
    "print(type(name))\n",
    "print(type(name2))"
   ]
  },
  {
   "cell_type": "markdown",
   "id": "984304c5",
   "metadata": {},
   "source": [
    "<class 'int'>---Integer(34,8907,15677899)\n",
    "\n",
    "<class 'float'>----Float(4.6,88.90,78.3)\n",
    "\n",
    "<class 'str'>---(Categorical variable)\n",
    "\n",
    "<class 'str'>"
   ]
  },
  {
   "cell_type": "markdown",
   "id": "2ac5ccb6",
   "metadata": {},
   "source": [
    "## How many Data Types\n",
    "1.Int\n",
    "\n",
    "2.Floating\n",
    "\n",
    "3.String\n",
    "\n",
    "4.Boolean(True or False)\n",
    "\n",
    "5.Lists\n",
    "\n",
    "6.Tuple\n",
    "\n",
    "7.Dict\n",
    "\n",
    "8.Sets\n",
    "\n",
    "9.None\n",
    "\n",
    "10.3+8j(Complex)\n",
    "\n",
    "11.Bytes and Byte arrays(to ssign binary data to binary files)\n",
    "\n",
    "12.Date and Time -datetime\n",
    "\n",
    "13.Custom objects"
   ]
  },
  {
   "cell_type": "markdown",
   "id": "87cf1b89",
   "metadata": {},
   "source": [
    "### lists\n",
    "#### lists are collection of items that can hold values of different datatypes.They are ordered and mutable"
   ]
  },
  {
   "cell_type": "code",
   "execution_count": 13,
   "id": "d9a2c2da",
   "metadata": {},
   "outputs": [
    {
     "name": "stdout",
     "output_type": "stream",
     "text": [
      "Banana\n"
     ]
    }
   ],
   "source": [
    "\n",
    "Fruits=['Apple','Banana','Mango']\n",
    "print(Fruits[1])"
   ]
  },
  {
   "cell_type": "markdown",
   "id": "798c66d6",
   "metadata": {},
   "source": [
    "## Control Flow\n",
    "### Python supports conditional statements(if-else) and loops(for while) for controlling flow of your code"
   ]
  },
  {
   "cell_type": "code",
   "execution_count": 14,
   "id": "3cecb1cc",
   "metadata": {},
   "outputs": [
    {
     "name": "stdout",
     "output_type": "stream",
     "text": [
      "you are a adult\n"
     ]
    }
   ],
   "source": [
    "age=25\n",
    "if age<18:\n",
    "    print(\"you are a minor\")\n",
    "else:\n",
    "    print(\"you are a adult\")"
   ]
  },
  {
   "cell_type": "code",
   "execution_count": 15,
   "id": "d1a82076",
   "metadata": {},
   "outputs": [
    {
     "name": "stdout",
     "output_type": "stream",
     "text": [
      "0\n",
      "1\n",
      "2\n",
      "3\n",
      "4\n"
     ]
    }
   ],
   "source": [
    "#loop\n",
    "for i in range(5):\n",
    "    print(i)"
   ]
  },
  {
   "cell_type": "code",
   "execution_count": 20,
   "id": "463630bf",
   "metadata": {},
   "outputs": [
    {
     "name": "stdout",
     "output_type": "stream",
     "text": [
      "Hello Sreeja!\n"
     ]
    }
   ],
   "source": [
    "#functions\n",
    "def greet(name):\n",
    "    print(f\"Hello {name}!\")\n",
    "message=greet('Sreeja')\n"
   ]
  },
  {
   "cell_type": "code",
   "execution_count": 22,
   "id": "58f37577",
   "metadata": {},
   "outputs": [
    {
     "name": "stdout",
     "output_type": "stream",
     "text": [
      "Hello Eluka!\n",
      "None\n"
     ]
    }
   ],
   "source": [
    "print(greet('Eluka'))"
   ]
  },
  {
   "cell_type": "code",
   "execution_count": null,
   "id": "650223b5",
   "metadata": {},
   "outputs": [],
   "source": []
  }
 ],
 "metadata": {
  "kernelspec": {
   "display_name": "Python 3 (ipykernel)",
   "language": "python",
   "name": "python3"
  },
  "language_info": {
   "codemirror_mode": {
    "name": "ipython",
    "version": 3
   },
   "file_extension": ".py",
   "mimetype": "text/x-python",
   "name": "python",
   "nbconvert_exporter": "python",
   "pygments_lexer": "ipython3",
   "version": "3.11.4"
  }
 },
 "nbformat": 4,
 "nbformat_minor": 5
}
